{
  "nbformat": 4,
  "nbformat_minor": 0,
  "metadata": {
    "colab": {
      "name": "Steganalysis using CNN",
      "provenance": [],
      "collapsed_sections": []
    },
    "kernelspec": {
      "name": "python3",
      "display_name": "Python 3"
    },
    "language_info": {
      "name": "python"
    },
    "accelerator": "TPU"
  },
  "cells": [
    {
      "cell_type": "markdown",
      "metadata": {
        "id": "sgnc_-D7ZiLs"
      },
      "source": [
        "#### Connecting to Drive"
      ]
    },
    {
      "cell_type": "code",
      "metadata": {
        "colab": {
          "base_uri": "https://localhost:8080/"
        },
        "id": "NuZETr-fUR9u",
        "outputId": "70a1dcc6-a494-4c83-d700-2f20d8330bb1"
      },
      "source": [
        "from google.colab import drive\n",
        "drive.mount('/content/drive')"
      ],
      "execution_count": null,
      "outputs": [
        {
          "output_type": "stream",
          "name": "stdout",
          "text": [
            "Mounted at /content/drive\n"
          ]
        }
      ]
    },
    {
      "cell_type": "markdown",
      "metadata": {
        "id": "ENWWmSTFZoU2"
      },
      "source": [
        "#### Importing Libraries"
      ]
    },
    {
      "cell_type": "markdown",
      "metadata": {
        "id": "w_zI8umZjEwN"
      },
      "source": [
        "Scikit-learn is a free software machine learning library for the Python programming language. It features various classification, regression and clustering algorithms including support vector machines, random forests, gradient boosting, k-means and DBSCAN.\n",
        "\n",
        "\n",
        "Matplotlib is a plotting library for the Python programming language and its numerical mathematics extension NumPy. It provides an object-oriented API for embedding plots into applications using general-purpose GUI toolkits like Tkinter, wxPython, Qt, or GTK.\n",
        "\n",
        "SciPy is a free and open-source Python library used for scientific computing and technical computing. It is a collection of mathematical algorithms and convenience functions built on the NumPy extension of Python.\n",
        "\n",
        "tqdm is a Python library that allows you to output a smart progress bar by wrapping around any iterable. A tqdm progress bar not only shows you how much time has elapsed, but also shows the estimated time remaining for the iterable.\n",
        "\n",
        "Pillow is a fork of the Python Imaging Library (PIL). PIL is a library that offers several standard procedures for manipulating images.\n",
        "\n",
        "Python Random module is an in-built module of Python which is used to generate random numbers. These are pseudo-random numbers means these are not truly random. This module can be used to perform random actions such as generating random numbers, print random a value for a list or string, etc."
      ]
    },
    {
      "cell_type": "code",
      "metadata": {
        "id": "v2S8LZnEUk25"
      },
      "source": [
        "import os\n",
        "import skimage.io as sk\n",
        "import matplotlib.pyplot as plt\n",
        "from scipy import spatial\n",
        "from tqdm import tqdm\n",
        "from PIL import Image\n",
        "from random import shuffle\n",
        "\n",
        "import numpy as np\n",
        "import pandas as pd"
      ],
      "execution_count": null,
      "outputs": []
    },
    {
      "cell_type": "markdown",
      "metadata": {
        "id": "MGjxom5HZu0T"
      },
      "source": [
        "#### Connecting to the Alaska-2 Dataset"
      ]
    },
    {
      "cell_type": "code",
      "metadata": {
        "id": "7xMoVQRbVUbQ"
      },
      "source": [
        "BASE_PATH = \"/content/drive/My Drive//Datasets/AICS/Project/alaska2_dataset\"\n",
        "train_imageids = pd.Series(os.listdir(BASE_PATH + '/Cover')).sort_values(ascending=True).reset_index(drop=True)\n",
        "test_imageids = pd.Series(os.listdir(BASE_PATH + '/Test')).sort_values(ascending=True).reset_index(drop=True)"
      ],
      "execution_count": null,
      "outputs": []
    },
    {
      "cell_type": "markdown",
      "metadata": {
        "id": "YJgMT1muZ85X"
      },
      "source": [
        "### Contents of the Dataset\n",
        "\n",
        "UNIWARD - Universal Wavelet Relative Distortion\n",
        "\n",
        "JMiPOD - Paper describing CNN for Stegnanalysis of JMiPOD images\n",
        "\n",
        "UERD - Uniform Embedding Revisited Distortion\n",
        "\n",
        "JMIPOD images is similar between cover and JMIPOD images , JUNIWARD images is similar between cover and JUNIWARD images, UERD images is similar between cover and UERD images.\n"
      ]
    },
    {
      "cell_type": "markdown",
      "metadata": {
        "id": "I5Cly6YckNPs"
      },
      "source": [
        "Cover contains unaltered images meant for training.\n",
        "\n",
        "JMiPOD contains examples of the JMiPOD algorithm applied to the cover images.\n",
        "\n",
        "JUNIWARD contains examples of the JUNIWARD algorithm applied to the cover images.\n",
        "\n",
        "UERD contains examples of the UERD algorithm applied to the cover images.\n",
        "\n",
        "Test contains test set of images. These are the images which will be used for prediction."
      ]
    },
    {
      "cell_type": "code",
      "metadata": {
        "id": "x6p5ENpSWNJs"
      },
      "source": [
        "cover_images_path = pd.Series(BASE_PATH + '/Cover/' + train_imageids ).sort_values(ascending=True)\n",
        "JMIPOD_images_path = pd.Series(BASE_PATH + '/JMiPOD/'+train_imageids).sort_values(ascending=True)\n",
        "JUNIWARD_images_path = pd.Series(BASE_PATH + '/JUNIWARD/'+train_imageids).sort_values(ascending=True)\n",
        "UERD_images_path = pd.Series(BASE_PATH + '/UERD/'+train_imageids).sort_values(ascending=True)\n",
        "test_images_path = pd.Series(BASE_PATH + '/Test/'+test_imageids).sort_values(ascending=True)\n",
        "ss = pd.read_csv(f'{BASE_PATH}/sample_submission.csv')"
      ],
      "execution_count": null,
      "outputs": []
    },
    {
      "cell_type": "markdown",
      "metadata": {
        "id": "ya4Jw4fcMGYR"
      },
      "source": [
        "## Building Model"
      ]
    },
    {
      "cell_type": "markdown",
      "metadata": {
        "id": "YsrUuHBLSjlv"
      },
      "source": [
        "What we will do?\n",
        "\n",
        "In this technique we will flatten the RGB images(encoded and normal) into a vector and the find the cosine dissimilarity between the two vectors. If they are alike then cosine dissimilarity(1-similarity) must be 1, else it will be less than 1 and we can get an idea that the image is hiding something."
      ]
    },
    {
      "cell_type": "code",
      "metadata": {
        "id": "j3DClDQZMEWa"
      },
      "source": [
        "final=[]\n",
        "def create_labels(cover,jmipod,juniward,uerd,image_id):\n",
        "    image = sk.imread(cover)\n",
        "    jmipodimg = sk.imread(jmipod)\n",
        "    juniward = sk.imread(juniward)\n",
        "    uerd = sk.imread(uerd)\n",
        "    \n",
        "    vec1 = np.reshape(image,(512*512*3))\n",
        "    vec2 = np.reshape(jmipodimg,(512*512*3))\n",
        "    vec3 = np.reshape(juniward,(512*512*3))\n",
        "    vec4 = np.reshape(uerd,(512*512*3))\n",
        "    \n",
        "    cos1 = spatial.distance.cosine(vec1,vec2)\n",
        "    cos2 = spatial.distance.cosine(vec1,vec3)\n",
        "    cos3 = spatial.distance.cosine(vec1,vec4)\n",
        "    \n",
        "    final.append({'image_id':image_id,'jmipod':cos1,'juniward':cos2,'uerd':cos3})"
      ],
      "execution_count": null,
      "outputs": []
    },
    {
      "cell_type": "markdown",
      "metadata": {
        "id": "lfJcyAQGTz-K"
      },
      "source": [
        "#### Importing first 4000 images."
      ]
    },
    {
      "cell_type": "code",
      "metadata": {
        "colab": {
          "base_uri": "https://localhost:8080/"
        },
        "id": "dzjECRh5MEZd",
        "outputId": "2a66e285-4055-4abd-a6ab-51bf96f1c846"
      },
      "source": [
        "for k in tqdm(range(4000)):\n",
        "  create_labels(cover_images_path[k],JMIPOD_images_path[k],JUNIWARD_images_path[k],UERD_images_path[k],train_imageids[k])"
      ],
      "execution_count": null,
      "outputs": [
        {
          "output_type": "stream",
          "name": "stderr",
          "text": [
            "100%|██████████| 4000/4000 [53:41<00:00,  1.24it/s]\n"
          ]
        }
      ]
    },
    {
      "cell_type": "markdown",
      "metadata": {
        "id": "XxYKrbyfUZn-"
      },
      "source": [
        "#### Printing the Cosine Dissimilarity"
      ]
    },
    {
      "cell_type": "code",
      "metadata": {
        "id": "PBbFGfkFMEcK",
        "colab": {
          "base_uri": "https://localhost:8080/",
          "height": 206
        },
        "outputId": "14a44fae-5ef0-4618-b500-99656869ca17"
      },
      "source": [
        "train_temp = pd.DataFrame(final)\n",
        "train_temp.head()"
      ],
      "execution_count": null,
      "outputs": [
        {
          "output_type": "execute_result",
          "data": {
            "text/html": [
              "<div>\n",
              "<style scoped>\n",
              "    .dataframe tbody tr th:only-of-type {\n",
              "        vertical-align: middle;\n",
              "    }\n",
              "\n",
              "    .dataframe tbody tr th {\n",
              "        vertical-align: top;\n",
              "    }\n",
              "\n",
              "    .dataframe thead th {\n",
              "        text-align: right;\n",
              "    }\n",
              "</style>\n",
              "<table border=\"1\" class=\"dataframe\">\n",
              "  <thead>\n",
              "    <tr style=\"text-align: right;\">\n",
              "      <th></th>\n",
              "      <th>image_id</th>\n",
              "      <th>jmipod</th>\n",
              "      <th>juniward</th>\n",
              "      <th>uerd</th>\n",
              "    </tr>\n",
              "  </thead>\n",
              "  <tbody>\n",
              "    <tr>\n",
              "      <th>0</th>\n",
              "      <td>00001.jpg</td>\n",
              "      <td>-0.072243</td>\n",
              "      <td>-0.043371</td>\n",
              "      <td>-0.055197</td>\n",
              "    </tr>\n",
              "    <tr>\n",
              "      <th>1</th>\n",
              "      <td>00002.jpg</td>\n",
              "      <td>-0.046725</td>\n",
              "      <td>-0.105272</td>\n",
              "      <td>-0.091790</td>\n",
              "    </tr>\n",
              "    <tr>\n",
              "      <th>2</th>\n",
              "      <td>00003.jpg</td>\n",
              "      <td>-0.067416</td>\n",
              "      <td>-0.025235</td>\n",
              "      <td>-0.021030</td>\n",
              "    </tr>\n",
              "    <tr>\n",
              "      <th>3</th>\n",
              "      <td>00004.jpg</td>\n",
              "      <td>-0.115326</td>\n",
              "      <td>-0.118881</td>\n",
              "      <td>-0.115003</td>\n",
              "    </tr>\n",
              "    <tr>\n",
              "      <th>4</th>\n",
              "      <td>00005.jpg</td>\n",
              "      <td>-0.005886</td>\n",
              "      <td>-0.004440</td>\n",
              "      <td>-0.003662</td>\n",
              "    </tr>\n",
              "  </tbody>\n",
              "</table>\n",
              "</div>"
            ],
            "text/plain": [
              "    image_id    jmipod  juniward      uerd\n",
              "0  00001.jpg -0.072243 -0.043371 -0.055197\n",
              "1  00002.jpg -0.046725 -0.105272 -0.091790\n",
              "2  00003.jpg -0.067416 -0.025235 -0.021030\n",
              "3  00004.jpg -0.115326 -0.118881 -0.115003\n",
              "4  00005.jpg -0.005886 -0.004440 -0.003662"
            ]
          },
          "metadata": {},
          "execution_count": 7
        }
      ]
    },
    {
      "cell_type": "markdown",
      "metadata": {
        "id": "e8JIoYLiUjsJ"
      },
      "source": [
        "#### Adding Softmax to our Dissimilarity to get Probabilities"
      ]
    },
    {
      "cell_type": "code",
      "metadata": {
        "id": "I4c4bVViMEgL"
      },
      "source": [
        "def sigmoid(X):\n",
        "   return 1/(1+np.exp(-X))"
      ],
      "execution_count": null,
      "outputs": []
    },
    {
      "cell_type": "code",
      "metadata": {
        "id": "jZH6tY9KMEjr"
      },
      "source": [
        "train_temp['jmipod'] = train_temp['jmipod'].apply(lambda x:sigmoid(x))\n",
        "train_temp['juniward'] = train_temp['juniward'].apply(lambda x:sigmoid(x))\n",
        "train_temp['uerd'] = train_temp['uerd'].apply(lambda x:sigmoid(x))"
      ],
      "execution_count": null,
      "outputs": []
    },
    {
      "cell_type": "code",
      "metadata": {
        "colab": {
          "base_uri": "https://localhost:8080/",
          "height": 206
        },
        "id": "z9B6fh1QMEm_",
        "outputId": "e478f679-b8cb-4d93-938e-5610acd910fb"
      },
      "source": [
        "train_temp.head()"
      ],
      "execution_count": null,
      "outputs": [
        {
          "output_type": "execute_result",
          "data": {
            "text/html": [
              "<div>\n",
              "<style scoped>\n",
              "    .dataframe tbody tr th:only-of-type {\n",
              "        vertical-align: middle;\n",
              "    }\n",
              "\n",
              "    .dataframe tbody tr th {\n",
              "        vertical-align: top;\n",
              "    }\n",
              "\n",
              "    .dataframe thead th {\n",
              "        text-align: right;\n",
              "    }\n",
              "</style>\n",
              "<table border=\"1\" class=\"dataframe\">\n",
              "  <thead>\n",
              "    <tr style=\"text-align: right;\">\n",
              "      <th></th>\n",
              "      <th>image_id</th>\n",
              "      <th>jmipod</th>\n",
              "      <th>juniward</th>\n",
              "      <th>uerd</th>\n",
              "    </tr>\n",
              "  </thead>\n",
              "  <tbody>\n",
              "    <tr>\n",
              "      <th>0</th>\n",
              "      <td>00001.jpg</td>\n",
              "      <td>0.481947</td>\n",
              "      <td>0.489159</td>\n",
              "      <td>0.486204</td>\n",
              "    </tr>\n",
              "    <tr>\n",
              "      <th>1</th>\n",
              "      <td>00002.jpg</td>\n",
              "      <td>0.488321</td>\n",
              "      <td>0.473706</td>\n",
              "      <td>0.477069</td>\n",
              "    </tr>\n",
              "    <tr>\n",
              "      <th>2</th>\n",
              "      <td>00003.jpg</td>\n",
              "      <td>0.483152</td>\n",
              "      <td>0.493692</td>\n",
              "      <td>0.494743</td>\n",
              "    </tr>\n",
              "    <tr>\n",
              "      <th>3</th>\n",
              "      <td>00004.jpg</td>\n",
              "      <td>0.471200</td>\n",
              "      <td>0.470315</td>\n",
              "      <td>0.471281</td>\n",
              "    </tr>\n",
              "    <tr>\n",
              "      <th>4</th>\n",
              "      <td>00005.jpg</td>\n",
              "      <td>0.498529</td>\n",
              "      <td>0.498890</td>\n",
              "      <td>0.499085</td>\n",
              "    </tr>\n",
              "  </tbody>\n",
              "</table>\n",
              "</div>"
            ],
            "text/plain": [
              "    image_id    jmipod  juniward      uerd\n",
              "0  00001.jpg  0.481947  0.489159  0.486204\n",
              "1  00002.jpg  0.488321  0.473706  0.477069\n",
              "2  00003.jpg  0.483152  0.493692  0.494743\n",
              "3  00004.jpg  0.471200  0.470315  0.471281\n",
              "4  00005.jpg  0.498529  0.498890  0.499085"
            ]
          },
          "metadata": {},
          "execution_count": 10
        }
      ]
    },
    {
      "cell_type": "markdown",
      "metadata": {
        "id": "5VacdquYVcHS"
      },
      "source": [
        "#### Creating a Data Holder"
      ]
    },
    {
      "cell_type": "code",
      "metadata": {
        "id": "_D7xIvbhMEp_"
      },
      "source": [
        "IMG_SIZE = 300\n",
        "def load_training_data():\n",
        "  train_data = []\n",
        "  data_paths = [cover_images_path,JUNIWARD_images_path,JMIPOD_images_path,UERD_images_path]\n",
        "  labels = [np.zeros(train_temp.shape[0]),train_temp['juniward'],train_temp['jmipod'],train_temp['uerd']]\n",
        "  for i,image_path in enumerate(data_paths):\n",
        "    for j,img in enumerate(image_path[:1000]):\n",
        "        label = labels[i][j]\n",
        "        img = Image.open(img)\n",
        "        img = img.convert('L')\n",
        "        img = img.resize((IMG_SIZE, IMG_SIZE), Image.ANTIALIAS)\n",
        "        train_data.append([np.array(img), label])\n",
        "        \n",
        "  shuffle(train_data)\n",
        "  return train_data"
      ],
      "execution_count": null,
      "outputs": []
    },
    {
      "cell_type": "code",
      "metadata": {
        "id": "5qGulx-PXF89"
      },
      "source": [
        "def load_test_data():\n",
        "    test_data = []\n",
        "    for img in test_images_path:\n",
        "        img = Image.open(img)\n",
        "        img = img.convert('L')\n",
        "        img = img.resize((IMG_SIZE, IMG_SIZE), Image.ANTIALIAS)\n",
        "        test_data.append([np.array(img)])\n",
        "            \n",
        "    return test_data"
      ],
      "execution_count": null,
      "outputs": []
    },
    {
      "cell_type": "code",
      "metadata": {
        "id": "MD8NaeXpZNjh"
      },
      "source": [
        "train = load_training_data()"
      ],
      "execution_count": null,
      "outputs": []
    },
    {
      "cell_type": "code",
      "metadata": {
        "colab": {
          "base_uri": "https://localhost:8080/"
        },
        "id": "8oe-gkP1XGCs",
        "outputId": "cd45d9e2-f044-4d22-9fad-b9a32cb49c03"
      },
      "source": [
        "len(train)"
      ],
      "execution_count": null,
      "outputs": [
        {
          "output_type": "execute_result",
          "data": {
            "text/plain": [
              "4000"
            ]
          },
          "metadata": {},
          "execution_count": 17
        }
      ]
    },
    {
      "cell_type": "markdown",
      "metadata": {
        "id": "nwRDMfYGaL1M"
      },
      "source": [
        "#### Printing an Image from Training set"
      ]
    },
    {
      "cell_type": "code",
      "metadata": {
        "colab": {
          "base_uri": "https://localhost:8080/",
          "height": 286
        },
        "id": "i1avXWThXGFw",
        "outputId": "b5c7a28d-7d3e-402d-ce7b-cdc48377918d"
      },
      "source": [
        "plt.imshow(train[115][0], cmap = 'gist_gray')"
      ],
      "execution_count": null,
      "outputs": [
        {
          "output_type": "execute_result",
          "data": {
            "text/plain": [
              "<matplotlib.image.AxesImage at 0x7f553482e110>"
            ]
          },
          "metadata": {},
          "execution_count": 18
        },
        {
          "output_type": "display_data",
          "data": {
            "image/png": "[encoded data removed]",
            "text/plain": [
              "<Figure size 432x288 with 1 Axes>"
            ]
          },
          "metadata": {
            "needs_background": "light"
          }
        }
      ]
    },
    {
      "cell_type": "code",
      "metadata": {
        "id": "uyZJpswJXnFe"
      },
      "source": [
        "trainImages = np.array([i[0] for i in train]).reshape(-1, IMG_SIZE, IMG_SIZE, 1)\n",
        "trainLabels = np.array([i[1] for i in train])"
      ],
      "execution_count": null,
      "outputs": []
    },
    {
      "cell_type": "markdown",
      "metadata": {
        "id": "dlIQjYmpaXIh"
      },
      "source": [
        "## CNN Model\n",
        "Convolutional neural network (CNN/ConvNet) is a class of deep neural networks which is most commonly applied to analyze visual imagery. It uses a special technique called Convolution. In mathematics, Convolution is a mathematical operation on two functions that produces a third function that expresses how the shape of one is modified by the other.\n",
        "\n",
        "Convolutional neural networks are composed of multiple layers of artificial neurons. Artificial neurons, a rough imitation of their biological counterparts, are mathematical functions that calculate the weighted sum of multiple inputs and outputs an activation value."
      ]
    },
    {
      "cell_type": "markdown",
      "metadata": {
        "id": "2g8NPY4qOJWx"
      },
      "source": [
        "### Why use CNN?\n",
        "\n",
        "CNN follows a hierarchical model which works on building a network, like a funnel, and finally gives out a fully-connected layer where all the neurons are connected to each other and the output is processed.\n",
        "\n",
        "Using an ANN for any purpose related to images would end up being very costly in terms of computation since the trainable parameters become extremely large.\n",
        "\n",
        "We use CNN as it contains filters (there are many different types according to purpose). Filters help us exploit the spatial locality of a particular image by enforcing a local connectivity pattern between neurons.\n"
      ]
    },
    {
      "cell_type": "markdown",
      "metadata": {
        "id": "zqasDnKEbL06"
      },
      "source": [
        "#### Importing CNN Libraries"
      ]
    },
    {
      "cell_type": "code",
      "metadata": {
        "id": "enVoaa_QXnK_"
      },
      "source": [
        "import keras\n",
        "from keras.models import Sequential\n",
        "from keras.layers import Dense, Dropout, Flatten\n",
        "from keras.layers import Conv2D, MaxPooling2D\n",
        "from keras.layers import BatchNormalization\n",
        "from tensorflow.keras.optimizers import Adam"
      ],
      "execution_count": null,
      "outputs": []
    },
    {
      "cell_type": "markdown",
      "metadata": {
        "id": "lFykreecbUO1"
      },
      "source": [
        "#### Using 5 Conv2D layers with Max Pooling and BatchNormalization"
      ]
    },
    {
      "cell_type": "markdown",
      "metadata": {
        "id": "XJRcv-oxbkaY"
      },
      "source": [
        "Pooling Layer: Pooling layer is responsible for reducing the spatial size of the Convolved Feature. This is to decrease the computational power required to process the data by reducing the dimensions.\n",
        "In Max Pooling, we find the maximum value of a pixel from a portion of the image covered by the kernel. Max Pooling also performs as a Noise Suppressant. It discards the noisy activations altogether and also performs de-noising along with dimensionality reduction.\n",
        "\n",
        "BatchNormalization: Batch normalization is a technique for training very deep neural networks that standardizes the inputs to a layer for each mini-batch. This has the effect of stabilizing the learning process and dramatically reducing the number of training epochs required to train deep networks."
      ]
    },
    {
      "cell_type": "code",
      "metadata": {
        "id": "InbzpZHQEQmr"
      },
      "source": [
        "model = Sequential()\n",
        "model.add(Conv2D(32, kernel_size = (3, 3), activation='relu', input_shape=(IMG_SIZE, IMG_SIZE, 1)))\n",
        "model.add(MaxPooling2D(pool_size=(2,2)))\n",
        "model.add(BatchNormalization())\n",
        "model.add(Conv2D(64, kernel_size=(3,3), activation='relu'))\n",
        "model.add(MaxPooling2D(pool_size=(2,2)))\n",
        "model.add(BatchNormalization())\n",
        "model.add(Conv2D(64, kernel_size=(3,3), activation='relu'))\n",
        "model.add(MaxPooling2D(pool_size=(2,2)))\n",
        "model.add(BatchNormalization())\n",
        "model.add(Conv2D(96, kernel_size=(3,3), activation='relu'))\n",
        "model.add(MaxPooling2D(pool_size=(2,2)))\n",
        "model.add(BatchNormalization())\n",
        "model.add(Conv2D(32, kernel_size=(3,3), activation='relu'))\n",
        "model.add(MaxPooling2D(pool_size=(2,2)))\n",
        "model.add(BatchNormalization())\n",
        "model.add(Dropout(0.2))\n",
        "model.add(Flatten())\n",
        "model.add(Dense(128, activation='relu'))\n",
        "model.add(Dense(1))"
      ],
      "execution_count": null,
      "outputs": []
    },
    {
      "cell_type": "markdown",
      "metadata": {
        "id": "SuZ5o2nE7ybb"
      },
      "source": [
        "#### Compiling the Model"
      ]
    },
    {
      "cell_type": "code",
      "metadata": {
        "id": "5vA0-28seSmX"
      },
      "source": [
        "optimizer = Adam(learning_rate=0.001)"
      ],
      "execution_count": null,
      "outputs": []
    },
    {
      "cell_type": "code",
      "metadata": {
        "id": "1XK6tU4dEQqE"
      },
      "source": [
        "model.compile(loss='categorical_crossentropy', optimizer=optimizer,metrics = ['accuracy'])"
      ],
      "execution_count": null,
      "outputs": []
    },
    {
      "cell_type": "markdown",
      "metadata": {
        "id": "0dV_V0b77kfq"
      },
      "source": [
        "#### Summary of the Model"
      ]
    },
    {
      "cell_type": "code",
      "metadata": {
        "colab": {
          "base_uri": "https://localhost:8080/"
        },
        "id": "Rze8wWVhEQtk",
        "outputId": "6eb6d822-d57a-44f5-a031-80f74e28bfa9"
      },
      "source": [
        "print(model.summary())"
      ],
      "execution_count": null,
      "outputs": [
        {
          "output_type": "stream",
          "name": "stdout",
          "text": [
            "Model: \"sequential\"\n",
            "_________________________________________________________________\n",
            "Layer (type)                 Output Shape              Param #   \n",
            "=================================================================\n",
            "conv2d (Conv2D)              (None, 298, 298, 32)      320       \n",
            "_________________________________________________________________\n",
            "max_pooling2d (MaxPooling2D) (None, 149, 149, 32)      0         \n",
            "_________________________________________________________________\n",
            "batch_normalization (BatchNo (None, 149, 149, 32)      128       \n",
            "_________________________________________________________________\n",
            "conv2d_1 (Conv2D)            (None, 147, 147, 64)      18496     \n",
            "_________________________________________________________________\n",
            "max_pooling2d_1 (MaxPooling2 (None, 73, 73, 64)        0         \n",
            "_________________________________________________________________\n",
            "batch_normalization_1 (Batch (None, 73, 73, 64)        256       \n",
            "_________________________________________________________________\n",
            "conv2d_2 (Conv2D)            (None, 71, 71, 64)        36928     \n",
            "_________________________________________________________________\n",
            "max_pooling2d_2 (MaxPooling2 (None, 35, 35, 64)        0         \n",
            "_________________________________________________________________\n",
            "batch_normalization_2 (Batch (None, 35, 35, 64)        256       \n",
            "_________________________________________________________________\n",
            "conv2d_3 (Conv2D)            (None, 33, 33, 96)        55392     \n",
            "_________________________________________________________________\n",
            "max_pooling2d_3 (MaxPooling2 (None, 16, 16, 96)        0         \n",
            "_________________________________________________________________\n",
            "batch_normalization_3 (Batch (None, 16, 16, 96)        384       \n",
            "_________________________________________________________________\n",
            "conv2d_4 (Conv2D)            (None, 14, 14, 32)        27680     \n",
            "_________________________________________________________________\n",
            "max_pooling2d_4 (MaxPooling2 (None, 7, 7, 32)          0         \n",
            "_________________________________________________________________\n",
            "batch_normalization_4 (Batch (None, 7, 7, 32)          128       \n",
            "_________________________________________________________________\n",
            "dropout (Dropout)            (None, 7, 7, 32)          0         \n",
            "_________________________________________________________________\n",
            "flatten (Flatten)            (None, 1568)              0         \n",
            "_________________________________________________________________\n",
            "dense (Dense)                (None, 128)               200832    \n",
            "_________________________________________________________________\n",
            "dense_1 (Dense)              (None, 1)                 129       \n",
            "=================================================================\n",
            "Total params: 340,929\n",
            "Trainable params: 340,353\n",
            "Non-trainable params: 576\n",
            "_________________________________________________________________\n",
            "None\n"
          ]
        }
      ]
    },
    {
      "cell_type": "markdown",
      "metadata": {
        "id": "dyYmsVNO7gz9"
      },
      "source": [
        "#### Training the Model"
      ]
    },
    {
      "cell_type": "code",
      "metadata": {
        "colab": {
          "base_uri": "https://localhost:8080/"
        },
        "id": "9s-bf0B3FabR",
        "outputId": "f4aaa2b7-9e21-48a4-954d-5026d6029fe0"
      },
      "source": [
        "model.fit(trainImages, trainLabels, batch_size = 100, epochs = 10, verbose = 1)"
      ],
      "execution_count": null,
      "outputs": [
        {
          "output_type": "stream",
          "name": "stdout",
          "text": [
            "Epoch 1/10\n",
            "40/40 [==============================] - 553s 14s/step - loss: 4.3793e-08 - accuracy: 0.6724\n",
            "Epoch 2/10\n",
            "40/40 [==============================] - 553s 14s/step - loss: 4.3792e-08 - accuracy: 0.6752\n",
            "Epoch 3/10\n",
            "40/40 [==============================] - 553s 14s/step - loss: 4.3795e-08 - accuracy: 0.6828\n",
            "Epoch 4/10\n",
            "40/40 [==============================] - 553s 14s/step - loss: 4.3791e-08 - accuracy: 0.6753\n",
            "Epoch 5/10\n",
            "40/40 [==============================] - 553s 14s/step - loss: 4.3797e-08 - accuracy: 0.6789\n",
            "Epoch 6/10\n",
            "40/40 [==============================] - 553s 14s/step - loss: 4.3792e-08 - accuracy: 0.6833\n",
            "Epoch 7/10\n",
            "40/40 [==============================] - 553s 14s/step - loss: 4.3791e-08 - accuracy: 0.6779\n",
            "Epoch 8/10\n",
            "40/40 [==============================] - 553s 14s/step - loss: 4.3792e-08 - accuracy: 0.6741\n",
            "Epoch 9/10\n",
            "40/40 [==============================] - 553s 14s/step - loss: 4.3793e-08 - accuracy: 0.6832\n",
            "Epoch 10/10\n",
            "40/40 [==============================] - 553s 14s/step - loss: 4.3793e-08 - accuracy: 0.6857\n",
            "<keras.callbacks.History at 0x7f54df64c1d0>\n"
          ]
        }
      ]
    },
    {
      "cell_type": "code",
      "metadata": {
        "id": "60ZhH7xUEQy8"
      },
      "source": [
        "test = load_test_data()\n",
        "testImages = np.array([i[0] for i in test]).reshape(-1, IMG_SIZE, IMG_SIZE, 1)\n",
        "trainLabels = np.array([i[1] for i in train])"
      ],
      "execution_count": null,
      "outputs": []
    },
    {
      "cell_type": "code",
      "metadata": {
        "id": "nitYrS1eEbXP"
      },
      "source": [
        "predict = model.predict(testImages,batch_size=100)"
      ],
      "execution_count": null,
      "outputs": []
    },
    {
      "cell_type": "code",
      "metadata": {
        "colab": {
          "base_uri": "https://localhost:8080/"
        },
        "id": "4-b4zNN5dOMt",
        "outputId": "fade6dab-85ca-4203-c5f1-29ec69ae74e0"
      },
      "source": [
        "predict"
      ],
      "execution_count": null,
      "outputs": [
        {
          "output_type": "execute_result",
          "data": {
            "text/plain": [
              "array([[ 0.36390918],\n",
              "       [ 0.69789404],\n",
              "       [ 1.3247591 ],\n",
              "       ...,\n",
              "       [ 1.8220463 ],\n",
              "       [-0.06519279],\n",
              "       [-5.9193964 ]], dtype=float32)"
            ]
          },
          "metadata": {},
          "execution_count": 35
        }
      ]
    },
    {
      "cell_type": "code",
      "metadata": {
        "colab": {
          "base_uri": "https://localhost:8080/"
        },
        "id": "VTrQfbnIFbRM",
        "outputId": "499b2269-5a39-47c6-a5ec-d5b321b488eb"
      },
      "source": [
        "loss_v, accuracy_v = model.evaluate(testImages, testLabels, verbose=1)\n",
        "print(\"Accuracy = %f\" % (accuracy_v))"
      ],
      "execution_count": null,
      "outputs": [
        {
          "output_type": "stream",
          "name": "stdout",
          "text": [
            "125/125 [==============================] - 134s 1s/step - loss: 4.3793e-08 - accuracy: 0.6717\n",
            "Accuracy = 0.671750\n"
          ]
        }
      ]
    }
  ]
}